{
  "cells": [
    {
      "cell_type": "code",
      "execution_count": 3,
      "metadata": {
        "id": "ravn5mLsahBy"
      },
      "outputs": [],
      "source": [
        "from keras.models import Sequential\n",
        "from keras.layers import Dense, Conv2D, Flatten, MaxPool2D\n",
        "import matplotlib.pyplot as plt\n",
        "from tensorflow import keras\n",
        "from keras.utils import to_categorical\n",
        "import numpy as np\n",
        "import cv2 as cv\n",
        "import os\n",
        "from tensorflow.keras import regularizers\n"
      ]
    },
    {
      "cell_type": "code",
      "execution_count": null,
      "metadata": {
        "id": "yNIgDJKDeOcg"
      },
      "outputs": [],
      "source": [
        "# %cd /content/drive/MyDrive/train_cnn_eyes\n",
        "# !mkdir train_images\n",
        "# %cd train_images\n",
        "# !unzip ../data_new\n"
      ]
    },
    {
      "cell_type": "code",
      "execution_count": 4,
      "metadata": {
        "colab": {
          "base_uri": "https://localhost:8080/"
        },
        "id": "TO0bTBd0_j-u",
        "outputId": "75df273a-6c01-48d0-cf52-5c3d99141ea2"
      },
      "outputs": [
        {
          "output_type": "stream",
          "name": "stdout",
          "text": [
            "Drive already mounted at /content/drive; to attempt to forcibly remount, call drive.mount(\"/content/drive\", force_remount=True).\n"
          ]
        }
      ],
      "source": [
        "from google.colab import drive\n",
        "drive.mount('/content/drive')"
      ]
    },
    {
      "cell_type": "code",
      "execution_count": 5,
      "metadata": {
        "colab": {
          "base_uri": "https://localhost:8080/",
          "height": 450
        },
        "id": "uMgZkkn6-gDA",
        "outputId": "865f72ad-389b-45f9-e627-f753c8a17e88"
      },
      "outputs": [
        {
          "output_type": "execute_result",
          "data": {
            "text/plain": [
              "<matplotlib.image.AxesImage at 0x7fc273bb2d40>"
            ]
          },
          "metadata": {},
          "execution_count": 5
        },
        {
          "output_type": "display_data",
          "data": {
            "text/plain": [
              "<Figure size 640x480 with 1 Axes>"
            ],
            "image/png": "[encoded data removed]"
          },
          "metadata": {}
        }
      ],
      "source": [
        "img=cv.imread('/content/drive/MyDrive/train_cnn_eyes/train_images/data_new/train/open eyes/1 - Copy.png',0)\n",
        "img=cv.cvtColor(img,cv.COLOR_BGR2RGB)\n",
        "plt.imshow(img)"
      ]
    },
    {
      "cell_type": "code",
      "execution_count": 6,
      "metadata": {
        "id": "WpGJLQ7DAB3D"
      },
      "outputs": [],
      "source": [
        "def load_images_from_folder(folder,X,y,label):\n",
        "    for filename in os.listdir(folder):\n",
        "        img = cv.imread(os.path.join(folder,filename),0)\n",
        "        X.append(img)\n",
        "        y.append(label)\n",
        "        # if img.shape[0]==103:\n",
        "        #     count+=1\n",
        "        #     img=cv2.resize(img,(79,79))\n",
        "        #     cv2.imwrite(f'{folder_target}{count}.png',img)\n",
        "    # return count"
      ]
    },
    {
      "cell_type": "code",
      "execution_count": 7,
      "metadata": {
        "id": "-eSlqlu7BPN7"
      },
      "outputs": [],
      "source": [
        "X_train=[]\n",
        "y_train=[]\n",
        "label_open=1\n",
        "label_close=0\n",
        "folder_open_train='/content/drive/MyDrive/train_cnn_eyes/train_images/data_after2/train/open eyes'\n",
        "folder_close_train='/content/drive/MyDrive/train_cnn_eyes/train_images/data_after2/train/close eyes'\n",
        "load_images_from_folder(folder_open_train,X_train,y_train,label_open)\n",
        "load_images_from_folder(folder_close_train,X_train,y_train,label_close)"
      ]
    },
    {
      "cell_type": "code",
      "execution_count": 101,
      "metadata": {
        "id": "R24AjKFCDfaz"
      },
      "outputs": [],
      "source": [
        "# label_open=1\n",
        "# label_close=0\n",
        "# folder_open_train='/content/drive/MyDrive/train_cnn_eyes/data_add2/train/open eyes'\n",
        "# folder_close_train='/content/drive/MyDrive/train_cnn_eyes/data_add2/train/close eyes'\n",
        "# load_images_from_folder(folder_open_train,X_train,y_train,label_open)\n",
        "# load_images_from_folder(folder_close_train,X_train,y_train,label_close)"
      ]
    },
    {
      "cell_type": "code",
      "source": [
        "# label_open=1\n",
        "# label_close=0\n",
        "# folder_open_train='/content/drive/MyDrive/train_cnn_eyes/train_images/data_new/train/open eyes'\n",
        "# folder_close_train='/content/drive/MyDrive/train_cnn_eyes/train_images/data_new/train/close eyes'\n",
        "# load_images_from_folder(folder_open_train,X_train,y_train,label_open)\n",
        "# load_images_from_folder(folder_close_train,X_train,y_train,label_close)"
      ],
      "metadata": {
        "id": "OM-lkJ9g3W5x"
      },
      "execution_count": 122,
      "outputs": []
    },
    {
      "cell_type": "code",
      "execution_count": 8,
      "metadata": {
        "id": "_kI1xrEQD1IR"
      },
      "outputs": [],
      "source": [
        "X_test=[]\n",
        "y_test=[]\n",
        "label_open=1\n",
        "label_close=0\n",
        "folder_open_test='/content/drive/MyDrive/train_cnn_eyes/train_images/data_after2/test/open eyes'\n",
        "folder_close_test='/content/drive/MyDrive/train_cnn_eyes/train_images/data_after2/test/close eyes'\n",
        "load_images_from_folder(folder_open_test,X_test,y_test,label_open)\n",
        "load_images_from_folder(folder_close_test,X_test,y_test,label_close)"
      ]
    },
    {
      "cell_type": "code",
      "execution_count": 124,
      "metadata": {
        "id": "vN2e6_56xGzZ"
      },
      "outputs": [],
      "source": [
        "# label_open=1\n",
        "# label_close=0\n",
        "# folder_open_test='/content/drive/MyDrive/train_cnn_eyes/data_add/train/open eyes'\n",
        "# folder_close_test='/content/drive/MyDrive/train_cnn_eyes/data_add/train/close eyes'\n",
        "# load_images_from_folder(folder_open_test,X_test,y_test,label_open)\n",
        "# load_images_from_folder(folder_close_test,X_test,y_test,label_close)"
      ]
    },
    {
      "cell_type": "code",
      "source": [
        "# label_open=1\n",
        "# label_close=0\n",
        "# folder_open_test='/content/drive/MyDrive/train_cnn_eyes/train_images/data_new/test/open eyes'\n",
        "# folder_close_test='/content/drive/MyDrive/train_cnn_eyes/train_images/data_new/test/close eyes'\n",
        "# load_images_from_folder(folder_open_test,X_test,y_test,label_open)\n",
        "# load_images_from_folder(folder_close_test,X_test,y_test,label_close)"
      ],
      "metadata": {
        "id": "NKxQJhAY3lMN"
      },
      "execution_count": 125,
      "outputs": []
    },
    {
      "cell_type": "code",
      "execution_count": 9,
      "metadata": {
        "colab": {
          "base_uri": "https://localhost:8080/"
        },
        "id": "AtU6t-KsC32Z",
        "outputId": "84455a39-9711-4ceb-82cd-e9a65d44a7fe"
      },
      "outputs": [
        {
          "output_type": "stream",
          "name": "stdout",
          "text": [
            "1341 1341\n",
            "6000 6000\n"
          ]
        }
      ],
      "source": [
        "print(len(X_test),len(y_test))\n",
        "print(len(X_train),len(y_train))"
      ]
    },
    {
      "cell_type": "code",
      "execution_count": 10,
      "metadata": {
        "id": "v7WyASXaEdT6"
      },
      "outputs": [],
      "source": [
        "X_train = np.array(X_train)\n",
        "X_test = np.array(X_test)\n",
        "y_train=np.array(y_train)\n",
        "y_test=np.array(y_test)"
      ]
    },
    {
      "cell_type": "code",
      "execution_count": 11,
      "metadata": {
        "colab": {
          "base_uri": "https://localhost:8080/"
        },
        "id": "N5d3FtVKFNUh",
        "outputId": "d4fb8eeb-3f4c-4350-a76b-184054b417fc"
      },
      "outputs": [
        {
          "output_type": "stream",
          "name": "stdout",
          "text": [
            "<class 'numpy.ndarray'>\n"
          ]
        }
      ],
      "source": [
        "type(X_train)\n",
        "print(type(y_train))"
      ]
    },
    {
      "cell_type": "code",
      "execution_count": 12,
      "metadata": {
        "colab": {
          "base_uri": "https://localhost:8080/"
        },
        "id": "JSfiBqpjFU4W",
        "outputId": "49dfbfdd-c76c-4a19-cc78-13589f1acffa"
      },
      "outputs": [
        {
          "output_type": "stream",
          "name": "stdout",
          "text": [
            "[0. 1.]\n"
          ]
        }
      ],
      "source": [
        "y_train=to_categorical(y_train)\n",
        "y_test=to_categorical(y_test)\n",
        "print(y_train[1])"
      ]
    },
    {
      "cell_type": "code",
      "execution_count": 13,
      "metadata": {
        "id": "bPymonYBFc63"
      },
      "outputs": [],
      "source": [
        "X_train=X_train.reshape(6000,79,79,1)\n",
        "X_test=X_test.reshape(1341,79,79,1)"
      ]
    },
    {
      "cell_type": "code",
      "execution_count": null,
      "metadata": {
        "id": "G6-S43EHFYq4"
      },
      "outputs": [],
      "source": [
        "# model = Sequential()\n",
        "\n",
        "# model.add(Conv2D(32,kernel_size=(3,3),activation='relu',input_shape=(79,79,1),padding='same'))\n",
        "# model.add(MaxPool2D(pool_size=(2,2),strides=2))\n",
        "# model.add(Conv2D(32,kernel_size=(3,3),activation='relu',input_shape=(79,79,1),padding='same'))\n",
        "# model.add(MaxPool2D(pool_size=(2,2),strides=2))\n",
        "# model.add(Conv2D(32, (3, 3), activation='relu', kernel_regularizer=regularizers.l2(l=0.01)))\n",
        "# model.add(MaxPool2D(pool_size=(2,2),strides=2))\n",
        "# model.add(Conv2D(16, (3, 3), activation='relu', kernel_regularizer=regularizers.l2(l=0.01)))\n",
        "# model.add(MaxPool2D(pool_size=(2,2),strides=2))\n",
        "# model.add(Conv2D(16, (3, 3), activation='relu', kernel_regularizer=regularizers.l2(l=0.01)))\n",
        "# # model.add(MaxPool2D(pool_size=(2,2),strides=2))\n",
        "# # model.add(MaxPool2D())\n",
        "# model.add(Flatten())\n",
        "# model.add(Dense(10,activation='relu'))\n",
        "# model.add(Dense(5,activation='relu'))\n",
        "# model.add(Dense(2,activation='softmax'))\n",
        "# model.compile(optimizer='adam',loss='categorical_crossentropy',metrics=['accuracy'])\n",
        "# model.summary()\n",
        "# #https://poloclub.github.io/cnn-explainer/#article-convolution\n"
      ]
    },
    {
      "cell_type": "code",
      "source": [
        "# model = Sequential()\n",
        "# model.add(Conv2D(128, (3, 3), input_shape=(79,79,1),activation='relu'))\n",
        "# model.add(MaxPool2D(pool_size=(2, 2)))\n",
        "# model.add(Conv2D(64, (3, 3),activation='relu'))\n",
        "# # model.add(Activation('relu'))\n",
        "# model.add(MaxPool2D(pool_size=(2, 2)))\n",
        "# model.add(Conv2D(32, (3, 3),activation='relu'))\n",
        "# # model.add(Activation('relu'))\n",
        "# model.add(MaxPool2D(pool_size=(2, 2)))\n",
        "# model.add(Conv2D(16, (3, 3),activation='relu'))\n",
        "# # model.add(Activation('relu'))\n",
        "# model.add(MaxPool2D(pool_size=(2, 2)))\n",
        "# model.add(Flatten())\n",
        "# model.add(Dense(64))\n",
        "# model.add(Dense(2,activation='softmax'))\n",
        "# model.compile(loss='binary_crossentropy',\n",
        "#               optimizer='adam',\n",
        "#               metrics=['accuracy'])"
      ],
      "metadata": {
        "id": "NJzFXe6Qqx3I"
      },
      "execution_count": 56,
      "outputs": []
    },
    {
      "cell_type": "code",
      "source": [
        "model = Sequential()\n",
        "\n",
        "model.add(Conv2D(32,kernel_size=(5,5),activation='relu',input_shape=(79,79,1),padding='same'))\n",
        "model.add(MaxPool2D(pool_size=(2,2),strides=2))\n",
        "model.add(Conv2D(32,kernel_size=(5,5),activation='relu',input_shape=(79,79,1),padding='same'))\n",
        "model.add(MaxPool2D(pool_size=(2,2),strides=2))\n",
        "model.add(Conv2D(32, (5, 5), activation='relu', kernel_regularizer=regularizers.l2(l=0.01)))\n",
        "model.add(MaxPool2D(pool_size=(2,2),strides=2))\n",
        "model.add(Conv2D(16, (3, 3), activation='relu', kernel_regularizer=regularizers.l2(l=0.01)))\n",
        "model.add(MaxPool2D(pool_size=(2,2),strides=2))\n",
        "# model.add(Conv2D(16, (3, 3), activation='relu', kernel_regularizer=regularizers.l2(l=0.01)))\n",
        "# model.add(MaxPool2D())\n",
        "model.add(Flatten())\n",
        "model.add(Dense(10,activation='relu'))\n",
        "model.add(Dense(5,activation='relu'))\n",
        "model.add(Dense(2,activation='softmax'))\n",
        "model.compile(optimizer='adam',loss='categorical_crossentropy',metrics=['accuracy'])\n",
        "model.summary()"
      ],
      "metadata": {
        "colab": {
          "base_uri": "https://localhost:8080/"
        },
        "id": "B-oiDnD00gCt",
        "outputId": "cd3e3759-e7f7-4493-b00c-a4d866003060"
      },
      "execution_count": 56,
      "outputs": [
        {
          "output_type": "stream",
          "name": "stdout",
          "text": [
            "Model: \"sequential_14\"\n",
            "_________________________________________________________________\n",
            " Layer (type)                Output Shape              Param #   \n",
            "=================================================================\n",
            " conv2d_56 (Conv2D)          (None, 79, 79, 32)        832       \n",
            "                                                                 \n",
            " max_pooling2d_56 (MaxPoolin  (None, 39, 39, 32)       0         \n",
            " g2D)                                                            \n",
            "                                                                 \n",
            " conv2d_57 (Conv2D)          (None, 39, 39, 32)        25632     \n",
            "                                                                 \n",
            " max_pooling2d_57 (MaxPoolin  (None, 19, 19, 32)       0         \n",
            " g2D)                                                            \n",
            "                                                                 \n",
            " conv2d_58 (Conv2D)          (None, 15, 15, 32)        25632     \n",
            "                                                                 \n",
            " max_pooling2d_58 (MaxPoolin  (None, 7, 7, 32)         0         \n",
            " g2D)                                                            \n",
            "                                                                 \n",
            " conv2d_59 (Conv2D)          (None, 5, 5, 16)          4624      \n",
            "                                                                 \n",
            " max_pooling2d_59 (MaxPoolin  (None, 2, 2, 16)         0         \n",
            " g2D)                                                            \n",
            "                                                                 \n",
            " flatten_14 (Flatten)        (None, 64)                0         \n",
            "                                                                 \n",
            " dense_42 (Dense)            (None, 10)                650       \n",
            "                                                                 \n",
            " dense_43 (Dense)            (None, 5)                 55        \n",
            "                                                                 \n",
            " dense_44 (Dense)            (None, 2)                 12        \n",
            "                                                                 \n",
            "=================================================================\n",
            "Total params: 57,437\n",
            "Trainable params: 57,437\n",
            "Non-trainable params: 0\n",
            "_________________________________________________________________\n"
          ]
        }
      ]
    },
    {
      "cell_type": "code",
      "execution_count": 57,
      "metadata": {
        "colab": {
          "base_uri": "https://localhost:8080/"
        },
        "id": "uD415cxE0dTv",
        "outputId": "ed67f22a-5e53-4998-ab8b-7e783a2fd633"
      },
      "outputs": [
        {
          "output_type": "stream",
          "name": "stdout",
          "text": [
            "Epoch 1/30\n",
            "34/34 [==============================] - 4s 37ms/step - loss: 1.2819 - accuracy: 0.5895 - val_loss: 1.0460 - val_accuracy: 0.5235\n",
            "Epoch 2/30\n",
            "34/34 [==============================] - 1s 29ms/step - loss: 0.9228 - accuracy: 0.7932 - val_loss: 0.9068 - val_accuracy: 0.7584\n",
            "Epoch 3/30\n",
            "34/34 [==============================] - 1s 29ms/step - loss: 0.8119 - accuracy: 0.8647 - val_loss: 0.8136 - val_accuracy: 0.8404\n",
            "Epoch 4/30\n",
            "34/34 [==============================] - 1s 29ms/step - loss: 0.7479 - accuracy: 0.8935 - val_loss: 0.7439 - val_accuracy: 0.8740\n",
            "Epoch 5/30\n",
            "34/34 [==============================] - 1s 29ms/step - loss: 0.7042 - accuracy: 0.9102 - val_loss: 0.6700 - val_accuracy: 0.9411\n",
            "Epoch 6/30\n",
            "34/34 [==============================] - 1s 33ms/step - loss: 0.6736 - accuracy: 0.9125 - val_loss: 0.6849 - val_accuracy: 0.9172\n",
            "Epoch 7/30\n",
            "34/34 [==============================] - 1s 33ms/step - loss: 0.6413 - accuracy: 0.9052 - val_loss: 0.5694 - val_accuracy: 0.9277\n",
            "Epoch 8/30\n",
            "34/34 [==============================] - 1s 33ms/step - loss: 0.5395 - accuracy: 0.9122 - val_loss: 0.5609 - val_accuracy: 0.9023\n",
            "Epoch 9/30\n",
            "34/34 [==============================] - 1s 35ms/step - loss: 0.4843 - accuracy: 0.9095 - val_loss: 0.5749 - val_accuracy: 0.9038\n",
            "Epoch 10/30\n",
            "34/34 [==============================] - 1s 29ms/step - loss: 0.4380 - accuracy: 0.9222 - val_loss: 0.4849 - val_accuracy: 0.9381\n",
            "Epoch 11/30\n",
            "34/34 [==============================] - 1s 30ms/step - loss: 0.4054 - accuracy: 0.9277 - val_loss: 0.5585 - val_accuracy: 0.8777\n",
            "Epoch 12/30\n",
            "34/34 [==============================] - 1s 30ms/step - loss: 0.3959 - accuracy: 0.9258 - val_loss: 0.3943 - val_accuracy: 0.9374\n",
            "Epoch 13/30\n",
            "34/34 [==============================] - 1s 30ms/step - loss: 0.3787 - accuracy: 0.9328 - val_loss: 0.4341 - val_accuracy: 0.9314\n",
            "Epoch 14/30\n",
            "34/34 [==============================] - 1s 30ms/step - loss: 0.3490 - accuracy: 0.9357 - val_loss: 0.3731 - val_accuracy: 0.9478\n",
            "Epoch 15/30\n",
            "34/34 [==============================] - 1s 29ms/step - loss: 0.3195 - accuracy: 0.9408 - val_loss: 0.4121 - val_accuracy: 0.9418\n",
            "Epoch 16/30\n",
            "34/34 [==============================] - 1s 31ms/step - loss: 0.3071 - accuracy: 0.9435 - val_loss: 0.4077 - val_accuracy: 0.9299\n",
            "Epoch 17/30\n",
            "34/34 [==============================] - 1s 31ms/step - loss: 0.3130 - accuracy: 0.9378 - val_loss: 0.4132 - val_accuracy: 0.9389\n",
            "Epoch 18/30\n",
            "34/34 [==============================] - 1s 32ms/step - loss: 0.2866 - accuracy: 0.9485 - val_loss: 0.3123 - val_accuracy: 0.9627\n",
            "Epoch 19/30\n",
            "34/34 [==============================] - 1s 33ms/step - loss: 0.2722 - accuracy: 0.9502 - val_loss: 0.3768 - val_accuracy: 0.9381\n",
            "Epoch 20/30\n",
            "34/34 [==============================] - 1s 32ms/step - loss: 0.2602 - accuracy: 0.9540 - val_loss: 0.3298 - val_accuracy: 0.9508\n",
            "Epoch 21/30\n",
            "34/34 [==============================] - 1s 35ms/step - loss: 0.2518 - accuracy: 0.9540 - val_loss: 0.3023 - val_accuracy: 0.9612\n",
            "Epoch 22/30\n",
            "34/34 [==============================] - 1s 35ms/step - loss: 0.2549 - accuracy: 0.9570 - val_loss: 0.4138 - val_accuracy: 0.9254\n",
            "Epoch 23/30\n",
            "34/34 [==============================] - 1s 30ms/step - loss: 0.2451 - accuracy: 0.9582 - val_loss: 0.2846 - val_accuracy: 0.9627\n",
            "Epoch 24/30\n",
            "34/34 [==============================] - 1s 30ms/step - loss: 0.2466 - accuracy: 0.9563 - val_loss: 0.3041 - val_accuracy: 0.9657\n",
            "Epoch 25/30\n",
            "34/34 [==============================] - 1s 32ms/step - loss: 0.2354 - accuracy: 0.9587 - val_loss: 0.2578 - val_accuracy: 0.9620\n",
            "Epoch 26/30\n",
            "34/34 [==============================] - 1s 30ms/step - loss: 0.2178 - accuracy: 0.9608 - val_loss: 0.2709 - val_accuracy: 0.9605\n",
            "Epoch 27/30\n",
            "34/34 [==============================] - 1s 33ms/step - loss: 0.2042 - accuracy: 0.9683 - val_loss: 0.2665 - val_accuracy: 0.9650\n",
            "Epoch 28/30\n",
            "34/34 [==============================] - 1s 33ms/step - loss: 0.2070 - accuracy: 0.9658 - val_loss: 0.4215 - val_accuracy: 0.9217\n",
            "Epoch 29/30\n",
            "34/34 [==============================] - 1s 29ms/step - loss: 0.2162 - accuracy: 0.9590 - val_loss: 0.3037 - val_accuracy: 0.9515\n",
            "Epoch 30/30\n",
            "34/34 [==============================] - 1s 30ms/step - loss: 0.1971 - accuracy: 0.9667 - val_loss: 0.3098 - val_accuracy: 0.9456\n"
          ]
        }
      ],
      "source": [
        "history=model.fit(X_train,y_train,validation_data=(X_test,y_test),epochs=30,batch_size=180)"
      ]
    },
    {
      "cell_type": "code",
      "execution_count": 58,
      "metadata": {
        "colab": {
          "base_uri": "https://localhost:8080/",
          "height": 927
        },
        "id": "URn53HO6Lm5P",
        "outputId": "082c499a-390d-48b9-eac9-470c797729a3"
      },
      "outputs": [
        {
          "output_type": "display_data",
          "data": {
            "text/plain": [
              "<Figure size 640x480 with 1 Axes>"
            ],
            "image/png": "[encoded data removed]"
          },
          "metadata": {}
        },
        {
          "output_type": "display_data",
          "data": {
            "text/plain": [
              "<Figure size 640x480 with 1 Axes>"
            ],
            "image/png": "[encoded data removed]"
          },
          "metadata": {}
        }
      ],
      "source": [
        "import matplotlib.pyplot as plt\n",
        "\n",
        "# summarize history for accuracy\n",
        "plt.plot(history.history['accuracy'])\n",
        "plt.plot(history.history['val_accuracy'])\n",
        "plt.title('model accuracy')\n",
        "plt.ylabel('accuracy')\n",
        "plt.xlabel('epoch')\n",
        "plt.legend(['Train', 'Validation'], loc='upper left')\n",
        "plt.show()\n",
        "# summarize history for loss\n",
        "plt.plot(history.history['loss'])\n",
        "plt.plot(history.history['val_loss'])\n",
        "plt.title('model loss')\n",
        "plt.ylabel('loss')\n",
        "plt.xlabel('epoch')\n",
        "plt.legend(['Train', 'Validation'], loc='upper left')\n",
        "plt.show()"
      ]
    },
    {
      "cell_type": "code",
      "execution_count": 155,
      "metadata": {
        "id": "9NdLIpDi6Otf"
      },
      "outputs": [],
      "source": [
        "def load_images_from_folder(folder,X):\n",
        "    for filename in os.listdir(folder):\n",
        "        img = cv.imread(os.path.join(folder,filename),0)\n",
        "        X.append(img)"
      ]
    },
    {
      "cell_type": "code",
      "execution_count": 158,
      "metadata": {
        "colab": {
          "base_uri": "https://localhost:8080/"
        },
        "id": "FbkjoOEG6ClN",
        "outputId": "da507ee7-8b75-414f-c298-fdf900f5bad0"
      },
      "outputs": [
        {
          "output_type": "stream",
          "name": "stdout",
          "text": [
            "(7, 79, 79)\n"
          ]
        }
      ],
      "source": [
        "X_thu=[]\n",
        "folder='/content/drive/MyDrive/train_cnn_eyes/test/test'\n",
        "load_images_from_folder(folder,X_thu)\n",
        "X_thu = np.array(X_thu)\n",
        "print(X_thu.shape)\n",
        "X_thu=X_thu.reshape(7,79,79,1)"
      ]
    },
    {
      "cell_type": "code",
      "execution_count": 159,
      "metadata": {
        "colab": {
          "base_uri": "https://localhost:8080/"
        },
        "id": "nlETpfVn5yao",
        "outputId": "3eee903a-7090-4394-9c40-14b495bce160"
      },
      "outputs": [
        {
          "output_type": "stream",
          "name": "stdout",
          "text": [
            "1/1 [==============================] - 0s 253ms/step\n"
          ]
        }
      ],
      "source": [
        "y_hat=model.predict(X_thu)\n"
      ]
    },
    {
      "cell_type": "code",
      "execution_count": 160,
      "metadata": {
        "colab": {
          "base_uri": "https://localhost:8080/"
        },
        "id": "OiwL23365z9W",
        "outputId": "9e944f76-c388-416e-818a-eee83ac23ced"
      },
      "outputs": [
        {
          "output_type": "execute_result",
          "data": {
            "text/plain": [
              "array([1, 0, 1, 0, 0, 0, 1])"
            ]
          },
          "metadata": {},
          "execution_count": 160
        }
      ],
      "source": [
        "y_label=np.argmax(y_hat,axis=1)\n",
        "y_label"
      ]
    },
    {
      "cell_type": "code",
      "execution_count": 2,
      "metadata": {
        "colab": {
          "base_uri": "https://localhost:8080/",
          "height": 165
        },
        "id": "NH6P4KlX5_Du",
        "outputId": "2307f48c-08e9-4789-b8b2-e2b53446e0cb"
      },
      "outputs": [
        {
          "output_type": "error",
          "ename": "NameError",
          "evalue": "ignored",
          "traceback": [
            "\u001b[0;31m---------------------------------------------------------------------------\u001b[0m",
            "\u001b[0;31mNameError\u001b[0m                                 Traceback (most recent call last)",
            "\u001b[0;32m<ipython-input-2-a2757305f72a>\u001b[0m in \u001b[0;36m<cell line: 1>\u001b[0;34m()\u001b[0m\n\u001b[0;32m----> 1\u001b[0;31m \u001b[0mplt\u001b[0m\u001b[0;34m.\u001b[0m\u001b[0mimshow\u001b[0m\u001b[0;34m(\u001b[0m\u001b[0mX_thu\u001b[0m\u001b[0;34m[\u001b[0m\u001b[0;36m0\u001b[0m\u001b[0;34m]\u001b[0m\u001b[0;34m)\u001b[0m\u001b[0;34m\u001b[0m\u001b[0;34m\u001b[0m\u001b[0m\n\u001b[0m",
            "\u001b[0;31mNameError\u001b[0m: name 'plt' is not defined"
          ]
        }
      ],
      "source": [
        "plt.imshow(X_thu[0])\n"
      ]
    },
    {
      "cell_type": "code",
      "execution_count": null,
      "metadata": {
        "id": "zBA9BOn170LQ"
      },
      "outputs": [],
      "source": [
        "model.save('/content/drive/MyDrive/train_cnn_eyes/close_open_eyes.h5')"
      ]
    }
  ],
  "metadata": {
    "accelerator": "GPU",
    "colab": {
      "provenance": [],
      "gpuType": "T4"
    },
    "kernelspec": {
      "display_name": "Python 3",
      "name": "python3"
    },
    "language_info": {
      "name": "python"
    }
  },
  "nbformat": 4,
  "nbformat_minor": 0
}